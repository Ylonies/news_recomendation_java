{
 "cells": [
  {
   "cell_type": "markdown",
   "metadata": {},
   "source": [
    "Устанавливаем пакеты для работы с ML:\n",
    "```\n",
    "pip install transformers pandas torch\n",
    "```"
   ]
  },
  {
   "cell_type": "code",
   "execution_count": null,
   "metadata": {},
   "outputs": [],
   "source": [
    "from transformers import AutoTokenizer, AutoModelForSequenceClassification\n",
    "from transformers import pipeline\n",
    "import pandas as pd"
   ]
  },
  {
   "cell_type": "markdown",
   "metadata": {},
   "source": [
    "Название модели"
   ]
  },
  {
   "cell_type": "code",
   "execution_count": 2,
   "metadata": {},
   "outputs": [],
   "source": [
    "model_name = \"cross-encoder/nli-roberta-base\""
   ]
  },
  {
   "cell_type": "markdown",
   "metadata": {},
   "source": [
    "Загруем предобученную модель и токенизатор"
   ]
  },
  {
   "cell_type": "code",
   "execution_count": 3,
   "metadata": {},
   "outputs": [],
   "source": [
    "tokenizer = AutoTokenizer.from_pretrained(model_name)\n",
    "model = AutoModelForSequenceClassification.from_pretrained(model_name)"
   ]
  },
  {
   "cell_type": "markdown",
   "metadata": {},
   "source": [
    "Создаем пайплайн для классификации текстов"
   ]
  },
  {
   "cell_type": "code",
   "execution_count": 4,
   "metadata": {},
   "outputs": [],
   "source": [
    "classifier = pipeline('zero-shot-classification', model=model, tokenizer=tokenizer)"
   ]
  },
  {
   "cell_type": "markdown",
   "metadata": {},
   "source": [
    "Пример входных данных"
   ]
  },
  {
   "cell_type": "code",
   "execution_count": 5,
   "metadata": {},
   "outputs": [],
   "source": [
    "text = \"Как настроить CI/CD для проекта на GitLab?\"\n",
    "candidate_labels = [\"DevOps\", \"IT\", \"Frontend\", \"Backend\", \"Data Science\", \"Machine Learning\", \"Cybersecurity\", \"Cloud Computing\", \"Mobile Development\", \"Game Development\", \"Database Administration\"]"
   ]
  },
  {
   "cell_type": "markdown",
   "metadata": {},
   "source": [
    "Подаем данные на вход модели"
   ]
  },
  {
   "cell_type": "code",
   "execution_count": 6,
   "metadata": {},
   "outputs": [],
   "source": [
    "result = classifier(text, candidate_labels)"
   ]
  },
  {
   "cell_type": "markdown",
   "metadata": {},
   "source": [
    "Форматируем результат"
   ]
  },
  {
   "cell_type": "code",
   "execution_count": 7,
   "metadata": {},
   "outputs": [
    {
     "name": "stdout",
     "output_type": "stream",
     "text": [
      "Predicted Category: Database Administration\n",
      "Detailed Scores:\n",
      "                   Category     Score\n",
      "0   Database Administration  0.161468\n",
      "1                        IT  0.146864\n",
      "2             Cybersecurity  0.140994\n",
      "3        Mobile Development  0.112600\n",
      "4          Game Development  0.095111\n",
      "5              Data Science  0.070947\n",
      "6                    DevOps  0.067741\n",
      "7                   Backend  0.066192\n",
      "8                  Frontend  0.053824\n",
      "9           Cloud Computing  0.044029\n",
      "10         Machine Learning  0.040232\n"
     ]
    }
   ],
   "source": [
    "df = pd.DataFrame({\n",
    "    'Category': result['labels'],\n",
    "    'Score': result['scores']\n",
    "})\n",
    "predicted_category = df.loc[df[\"Score\"].idxmax(), \"Category\"]\n",
    "\n",
    "print(f\"Predicted Category: {predicted_category}\")\n",
    "print(\"Detailed Scores:\")\n",
    "print(df)"
   ]
  }
 ],
 "metadata": {
  "kernelspec": {
   "display_name": ".venv",
   "language": "python",
   "name": "python3"
  },
  "language_info": {
   "codemirror_mode": {
    "name": "ipython",
    "version": 3
   },
   "file_extension": ".py",
   "mimetype": "text/x-python",
   "name": "python",
   "nbconvert_exporter": "python",
   "pygments_lexer": "ipython3",
   "version": "3.11.9"
  }
 },
 "nbformat": 4,
 "nbformat_minor": 2
}
